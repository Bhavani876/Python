{
 "cells": [
  {
   "cell_type": "markdown",
   "id": "940b4860",
   "metadata": {},
   "source": [
    "# practice 1"
   ]
  },
  {
   "cell_type": "code",
   "execution_count": 41,
   "id": "f3911735",
   "metadata": {},
   "outputs": [
    {
     "name": "stdout",
     "output_type": "stream",
     "text": [
      "false\n"
     ]
    }
   ],
   "source": [
    "# print name (\"USA\")\n",
    "myname=[\"Joe\", \"Zoe\", \"World\", \"Brad\", \"Angelina\", \"World\", \"Zuki\", \"Tom\", \"Paris\", \"World\", \"Magic\"]\n",
    "if 'USA' in myname:\n",
    "    print(\"true\")\n",
    "else:\n",
    "    print(\"false\")"
   ]
  },
  {
   "cell_type": "markdown",
   "id": "e7cb71e0",
   "metadata": {},
   "source": [
    "# practice 2"
   ]
  },
  {
   "cell_type": "code",
   "execution_count": 59,
   "id": "193eff79",
   "metadata": {},
   "outputs": [
    {
     "name": "stdout",
     "output_type": "stream",
     "text": [
      "3\n"
     ]
    }
   ],
   "source": [
    "myname=[\"Joe\", \"Zoe\", \"World\", \"Brad\", \"Angelina\", \"World\", \"Zuki\", \"Tom\", \"Paris\", \"World\", \"Magic\"]\n",
    "c=0\n",
    "for i in myname:\n",
    "    if 'World' in i:\n",
    "        c=c+1\n",
    "print(c)"
   ]
  },
  {
   "cell_type": "markdown",
   "id": "59505a6d",
   "metadata": {},
   "source": [
    "# practice 3"
   ]
  },
  {
   "cell_type": "code",
   "execution_count": 45,
   "id": "723b841d",
   "metadata": {},
   "outputs": [
    {
     "name": "stdout",
     "output_type": "stream",
     "text": [
      "Even :  14\n",
      "Odd :  15\n"
     ]
    }
   ],
   "source": [
    "# total count of even no's and odd no's.\n",
    "even, odd= 0, 0\n",
    "\n",
    "for i in range(1,30): \n",
    "\n",
    "    if i % 2 == 0: \n",
    "\n",
    "        even += 1\n",
    "\n",
    "    else: \n",
    "\n",
    "        odd+= 1          \n",
    "\n",
    "print(\"Even : \", even) \n",
    "\n",
    "print(\"Odd : \", odd) "
   ]
  },
  {
   "cell_type": "markdown",
   "id": "f74fc05d",
   "metadata": {},
   "source": [
    "# practice 4"
   ]
  },
  {
   "cell_type": "code",
   "execution_count": 26,
   "id": "75622779",
   "metadata": {},
   "outputs": [
    {
     "name": "stdout",
     "output_type": "stream",
     "text": [
      "[2, 4, 6, 8, 10]\n"
     ]
    }
   ],
   "source": [
    "dataset = list(range(1,30))\n",
    "a=[]\n",
    "for number in dataset:\n",
    "    if number % 2 == 0:\n",
    "        a.append(number)\n",
    "        if len(a) == 5:\n",
    "            break\n",
    "print(even_numbers)"
   ]
  },
  {
   "cell_type": "markdown",
   "id": "049170b8",
   "metadata": {},
   "source": [
    "# practice 5"
   ]
  },
  {
   "cell_type": "code",
   "execution_count": 93,
   "id": "b8037949",
   "metadata": {},
   "outputs": [
    {
     "name": "stdout",
     "output_type": "stream",
     "text": [
      "27\n",
      "29\n"
     ]
    }
   ],
   "source": [
    "#Odd numbers with last two odd no's.\n",
    "c=0\n",
    "for i in range(1,30,2):\n",
    "    if i%2!=0:\n",
    "        c=c+1\n",
    "    if c==14 or c==15:\n",
    "        print(i)"
   ]
  },
  {
   "cell_type": "markdown",
   "id": "19dc0ab4",
   "metadata": {},
   "source": [
    "# practice 6"
   ]
  },
  {
   "cell_type": "code",
   "execution_count": 7,
   "id": "043acb70",
   "metadata": {},
   "outputs": [
    {
     "name": "stdout",
     "output_type": "stream",
     "text": [
      "enter your number =1\n",
      "enter your number =2\n",
      "enter your number =3\n",
      "enter your number =4\n",
      "enter your number =5\n",
      "enter your number =6\n",
      "enter your number =7\n",
      "enter your number =8\n",
      "enter your number =9\n",
      "enter your number =10\n",
      "['1', '2', '3', '4', '5', '6', '7', '8', '9', '10'] ['6', '7', '8', '9', '10']\n"
     ]
    }
   ],
   "source": [
    "dataset=list(range(1,30))\n",
    "x=[]\n",
    "y=[]\n",
    "for i in range(5):\n",
    "    x.append(input('enter your number ='))\n",
    "for i in range(5):\n",
    "    y.append(input('enter your number ='))\n",
    "x.extend(y)\n",
    "print(x,y)\n",
    "    "
   ]
  },
  {
   "cell_type": "markdown",
   "id": "b53a2926",
   "metadata": {},
   "source": [
    "# practice 7"
   ]
  },
  {
   "cell_type": "code",
   "execution_count": 2,
   "id": "02860356",
   "metadata": {},
   "outputs": [
    {
     "name": "stdout",
     "output_type": "stream",
     "text": [
      "1 4 9 16 25 36 49 64 81 100 961 1024 1089 1156 1225 1296 1369 1444 1521 1600 "
     ]
    }
   ],
   "source": [
    "for i in range(1,41):\n",
    "    if i<=10 or i>30:\n",
    "        print(i*i, end =' ')"
   ]
  },
  {
   "cell_type": "markdown",
   "id": "534e29ca",
   "metadata": {},
   "source": [
    "# practice 8"
   ]
  },
  {
   "cell_type": "code",
   "execution_count": 14,
   "id": "ed050db6",
   "metadata": {},
   "outputs": [
    {
     "name": "stdout",
     "output_type": "stream",
     "text": [
      "enter ypur number =5\n",
      "5 x 1 = 5\n",
      "5 x 2 = 10\n",
      "5 x 3 = 15\n",
      "5 x 4 = 20\n",
      "5 x 5 = 25\n",
      "5 x 6 = 30\n",
      "5 x 7 = 35\n",
      "5 x 8 = 40\n",
      "5 x 9 = 45\n",
      "5 x 10 = 50\n"
     ]
    }
   ],
   "source": [
    "number=int(input('enter ypur number ='))\n",
    "for i in range(1,11):\n",
    "    print(number, 'x',i, '=', number*i)"
   ]
  },
  {
   "cell_type": "code",
   "execution_count": null,
   "id": "f5de1b90",
   "metadata": {},
   "outputs": [],
   "source": []
  }
 ],
 "metadata": {
  "kernelspec": {
   "display_name": "Python 3 (ipykernel)",
   "language": "python",
   "name": "python3"
  },
  "language_info": {
   "codemirror_mode": {
    "name": "ipython",
    "version": 3
   },
   "file_extension": ".py",
   "mimetype": "text/x-python",
   "name": "python",
   "nbconvert_exporter": "python",
   "pygments_lexer": "ipython3",
   "version": "3.9.13"
  }
 },
 "nbformat": 4,
 "nbformat_minor": 5
}
