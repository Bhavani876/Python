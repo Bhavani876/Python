{
 "cells": [
  {
   "cell_type": "markdown",
   "id": "bc5eee6f",
   "metadata": {},
   "source": [
    "# sprint 5_practice"
   ]
  },
  {
   "cell_type": "markdown",
   "id": "20671f0f",
   "metadata": {},
   "source": [
    "# practice 1"
   ]
  },
  {
   "cell_type": "code",
   "execution_count": 3,
   "id": "d9c60d7c",
   "metadata": {},
   "outputs": [
    {
     "name": "stdout",
     "output_type": "stream",
     "text": [
      "True\n",
      "True\n",
      "False\n"
     ]
    }
   ],
   "source": [
    "def check_palindrome(string):\n",
    "    if string == string[::-1]:\n",
    "        return True\n",
    "    else:\n",
    "        return False\n",
    "\n",
    "print(check_palindrome(\"abba\"))\n",
    "print(check_palindrome(\"madam\"))\n",
    "print(check_palindrome(\"hello\"))\n"
   ]
  },
  {
   "cell_type": "markdown",
   "id": "7979c3d6",
   "metadata": {},
   "source": [
    "# practice 2"
   ]
  },
  {
   "cell_type": "code",
   "execution_count": 38,
   "id": "6ec0745f",
   "metadata": {},
   "outputs": [
    {
     "name": "stdout",
     "output_type": "stream",
     "text": [
      "enter a word =functions\n",
      " the string = functions\n",
      "the sorted string = cfinnostu\n"
     ]
    }
   ],
   "source": [
    "def sorting():\n",
    "    a=input(\"enter a word =\")\n",
    "    print(\" the string =\" ,a)\n",
    "    b= ''.join(sorted(a))\n",
    "    print(\"the sorted string =\" ,b)\n",
    "sorting()\n",
    "    "
   ]
  },
  {
   "cell_type": "markdown",
   "id": "a8f6bb15",
   "metadata": {},
   "source": [
    "# practice 3"
   ]
  },
  {
   "cell_type": "code",
   "execution_count": 9,
   "id": "ffeda3ef",
   "metadata": {},
   "outputs": [
    {
     "name": "stdout",
     "output_type": "stream",
     "text": [
      "Bhavani\n"
     ]
    }
   ],
   "source": [
    "def convert_list_to_string(char_list):\n",
    "    return \"\".join(char_list)\n",
    "\n",
    "characters = ['B','h','a','v','a','n','i']\n",
    "string = convert_list_to_string(characters)\n",
    "print(string)"
   ]
  },
  {
   "cell_type": "markdown",
   "id": "5cb697b0",
   "metadata": {},
   "source": [
    "# practice 4"
   ]
  },
  {
   "cell_type": "code",
   "execution_count": null,
   "id": "9f854497",
   "metadata": {},
   "outputs": [],
   "source": [
    "    def find_min_max():\n",
    "    user_input = input(\"Enter a list of numbers separated by commas = \")\n",
    "    a = [int(x) for x in user_input.split(\",\")]\n",
    "    min_num = min(a)\n",
    "    max_num = max(a)\n",
    "    print(\"Smallest number: \", min_num)\n",
    "    print(\"Largest number: \", max_num)\n",
    "\n",
    "find_min_max()\n"
   ]
  },
  {
   "cell_type": "markdown",
   "id": "0106c3bd",
   "metadata": {},
   "source": [
    "# practice 5"
   ]
  },
  {
   "cell_type": "code",
   "execution_count": 39,
   "id": "09288264",
   "metadata": {},
   "outputs": [
    {
     "name": "stdout",
     "output_type": "stream",
     "text": [
      "Item with maximum value:  item5\n",
      "Item with minimum value:  item4\n"
     ]
    }
   ],
   "source": [
    "def find_max_min_items(data):\n",
    "    items_dict = {}\n",
    "    for item in data:\n",
    "        item_name, item_value = item.split()\n",
    "        items_dict[item_name] = float(item_value)\n",
    "    max_item = max(items_dict, key=items_dict.get)\n",
    "    min_item = min(items_dict, key=items_dict.get)\n",
    "    print(\"Item with maximum value: \", max_item)\n",
    "    print(\"Item with minimum value: \", min_item)\n",
    "\n",
    "data = [\"item1 45.50\", \"item2 35\", \"item3 41.30\", \"item4 29\", \"item5 49.89\"]\n",
    "find_max_min_items(data)\n",
    "\n",
    "   "
   ]
  },
  {
   "cell_type": "markdown",
   "id": "b0908bda",
   "metadata": {},
   "source": [
    "# practice 6"
   ]
  },
  {
   "cell_type": "code",
   "execution_count": 26,
   "id": "1901172b",
   "metadata": {},
   "outputs": [
    {
     "name": "stdout",
     "output_type": "stream",
     "text": [
      "Enter your name: Bhavani\n",
      "Enter your age: 23\n",
      "Enter your gender (male/female): female\n",
      "Bhavani\n",
      "23\n",
      "female\n"
     ]
    }
   ],
   "source": [
    "def func():\n",
    "    global name, age, gender\n",
    "    name = input(\"Enter your name: \")\n",
    "    age = input(\"Enter your age: \")\n",
    "    gender = input(\"Enter your gender (male/female): \")\n",
    "\n",
    "def generate_profile_card():\n",
    "    print( name)\n",
    "    print( age)\n",
    "    print( gender)\n",
    "\n",
    "func()\n",
    "generate_profile_card()\n"
   ]
  },
  {
   "cell_type": "markdown",
   "id": "133c5f2e",
   "metadata": {},
   "source": [
    "# practice 7"
   ]
  },
  {
   "cell_type": "code",
   "execution_count": 27,
   "id": "9bb5eb29",
   "metadata": {},
   "outputs": [
    {
     "name": "stdout",
     "output_type": "stream",
     "text": [
      "Enter first integer: 23\n",
      "Enter second integer: 45\n",
      "Result :  23805\n"
     ]
    }
   ],
   "source": [
    "def outer_function():\n",
    "    x = int(input(\"Enter first integer: \"))\n",
    "    y = int(input(\"Enter second integer: \"))\n",
    "\n",
    "    def inner_function(a, b):\n",
    "        return a**2*b\n",
    "\n",
    "    result = inner_function(x, y)\n",
    "    print( result)\n",
    "\n",
    "outer_function()\n"
   ]
  },
  {
   "cell_type": "markdown",
   "id": "1c5dd9db",
   "metadata": {},
   "source": [
    "# practice 8"
   ]
  },
  {
   "cell_type": "code",
   "execution_count": 28,
   "id": "07daa85f",
   "metadata": {},
   "outputs": [
    {
     "name": "stdout",
     "output_type": "stream",
     "text": [
      "[('green', 1), ('blue', 2), ('yellow', 3), ('black', 4), ('red', 5)]\n"
     ]
    }
   ],
   "source": [
    "color = [('black', 4), ('green', 1), ('red', 5), ('blue', 2), ('yellow', 3)]\n",
    "color.sort(key=lambda x: x[1])\n",
    "print(color)\n"
   ]
  },
  {
   "cell_type": "markdown",
   "id": "41316752",
   "metadata": {},
   "source": [
    "# practice 9"
   ]
  },
  {
   "cell_type": "code",
   "execution_count": 30,
   "id": "05f907cf",
   "metadata": {},
   "outputs": [
    {
     "name": "stdout",
     "output_type": "stream",
     "text": [
      "['Mandy']\n"
     ]
    }
   ],
   "source": [
    "list1 = [\"Andy\", \"Mandy\", \"Sandy\"]\n",
    "list2 = [\"Handy\", \"Brandy\", \"Mandy\"]\n",
    "intersection = list(filter(lambda x: x in list1, list2))\n",
    "print(intersection)\n"
   ]
  },
  {
   "cell_type": "markdown",
   "id": "5c3d57da",
   "metadata": {},
   "source": [
    "# practice 10"
   ]
  },
  {
   "cell_type": "code",
   "execution_count": 31,
   "id": "b400b362",
   "metadata": {},
   "outputs": [
    {
     "name": "stdout",
     "output_type": "stream",
     "text": [
      "[29, 29, 29]\n"
     ]
    }
   ],
   "source": [
    "c = [12, 13, 14]\n",
    "d = [17, 16, 15]\n",
    "result = list(map(lambda x, y: x + y, c, d))\n",
    "print(result)\n"
   ]
  },
  {
   "cell_type": "code",
   "execution_count": null,
   "id": "e5f1b200",
   "metadata": {},
   "outputs": [],
   "source": []
  },
  {
   "cell_type": "code",
   "execution_count": null,
   "id": "54dcf412",
   "metadata": {},
   "outputs": [],
   "source": []
  }
 ],
 "metadata": {
  "kernelspec": {
   "display_name": "Python 3 (ipykernel)",
   "language": "python",
   "name": "python3"
  },
  "language_info": {
   "codemirror_mode": {
    "name": "ipython",
    "version": 3
   },
   "file_extension": ".py",
   "mimetype": "text/x-python",
   "name": "python",
   "nbconvert_exporter": "python",
   "pygments_lexer": "ipython3",
   "version": "3.9.13"
  }
 },
 "nbformat": 4,
 "nbformat_minor": 5
}
