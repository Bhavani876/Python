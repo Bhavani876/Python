{
 "cells": [
  {
   "cell_type": "markdown",
   "id": "4dedc06b",
   "metadata": {},
   "source": [
    "# sprint_2 (practice)"
   ]
  },
  {
   "cell_type": "markdown",
   "id": "8f53fbc6",
   "metadata": {},
   "source": [
    "# practice 1"
   ]
  },
  {
   "cell_type": "code",
   "execution_count": 9,
   "id": "82c9c8c4",
   "metadata": {},
   "outputs": [
    {
     "name": "stdout",
     "output_type": "stream",
     "text": [
      "enter character=a\n",
      "a\n",
      "python\n"
     ]
    }
   ],
   "source": [
    "character=input('enter character=')\n",
    "print(character)\n",
    "if character=='a':\n",
    "    print('python')\n",
    "elif character=='b':\n",
    "    print('mysql')\n",
    "elif character=='c':\n",
    "    print('excel')\n",
    "else: \n",
    "    print('holiday')\n",
    "\n"
   ]
  },
  {
   "cell_type": "markdown",
   "id": "2992cbdf",
   "metadata": {},
   "source": [
    "# practice 2"
   ]
  },
  {
   "cell_type": "code",
   "execution_count": 29,
   "id": "736e2e3a",
   "metadata": {},
   "outputs": [
    {
     "name": "stdout",
     "output_type": "stream",
     "text": [
      "enter first num_1=49\n",
      "enter second num_2=47\n",
      "second number is greater than the first number\n"
     ]
    }
   ],
   "source": [
    "num_1=input('enter first num_1=')\n",
    "num_2=input('enter second num_2=')\n",
    "#compare the both numbers\n",
    "\n",
    "if num_1>num_2:\n",
    "    print(\"first number is greater than the second number\")\n",
    "else:\n",
    "    print(\"second number is greater than the first number\")"
   ]
  },
  {
   "cell_type": "markdown",
   "id": "dd238708",
   "metadata": {},
   "source": [
    "# practice 3"
   ]
  },
  {
   "cell_type": "code",
   "execution_count": 46,
   "id": "6a982d11",
   "metadata": {},
   "outputs": [
    {
     "name": "stdout",
     "output_type": "stream",
     "text": [
      "enter basic_salary=13000\n",
      "net_income=  15600.0\n"
     ]
    }
   ],
   "source": [
    "basic_salary= int(input('enter basic_salary='))\n",
    "if basic_salary>0 and basic_salary<4000:\n",
    "    HRA = basic_salary*0.1\n",
    "    DA = basic_salary*0.05\n",
    "    tax = 0\n",
    "elif basic_salary>=4001 and basic_salary<10000:\n",
    "    HRA = basic_salary*0.2\n",
    "    DA = basic_salary*0.1\n",
    "    tax = basic_salary*0.15\n",
    "else:\n",
    "    HRA = basic_salary*0.25\n",
    "    DA = basic_salary*0.15\n",
    "    tax = basic_salary*0.2\n",
    "net_income=(basic_salary)+(HRA)+(DA)-tax\n",
    "print(\"net_income= \",net_income)"
   ]
  },
  {
   "cell_type": "code",
   "execution_count": null,
   "id": "e4982d99",
   "metadata": {},
   "outputs": [],
   "source": []
  },
  {
   "cell_type": "markdown",
   "id": "9ec35852",
   "metadata": {},
   "source": [
    "# practice 4"
   ]
  },
  {
   "cell_type": "code",
   "execution_count": 38,
   "id": "2985fe57",
   "metadata": {},
   "outputs": [
    {
     "name": "stdout",
     "output_type": "stream",
     "text": [
      "enter variable=design\n",
      "it is exists\n"
     ]
    }
   ],
   "source": [
    "a=input('enter variable=')\n",
    "var=\"python is an interpreted high_level general-purpose programming language. its design philosophy emphasizes code readability with its use of signification indentation. its language constructs as well as its object-oriented approach aim to help programmers writer clear, logical code for small and large-scale projects.\"\n",
    "if a in var:\n",
    "    print(\"it is exists\")\n",
    "else:\n",
    "    print(\"it is does not exists\")"
   ]
  },
  {
   "cell_type": "code",
   "execution_count": null,
   "id": "dff46109",
   "metadata": {},
   "outputs": [],
   "source": []
  },
  {
   "cell_type": "markdown",
   "id": "d448d24c",
   "metadata": {},
   "source": [
    "# practice 5"
   ]
  },
  {
   "cell_type": "code",
   "execution_count": 42,
   "id": "b8102a96",
   "metadata": {},
   "outputs": [
    {
     "name": "stdout",
     "output_type": "stream",
     "text": [
      "enter character=C\n",
      "uppercase\n"
     ]
    }
   ],
   "source": [
    "i=input('enter character=')\n",
    "if i.isupper():\n",
    "    print(\"uppercase\")\n",
    "else:\n",
    "    print(\"lowercase\")"
   ]
  },
  {
   "cell_type": "markdown",
   "id": "1eb3d675",
   "metadata": {},
   "source": [
    "# practice 6"
   ]
  },
  {
   "cell_type": "code",
   "execution_count": 45,
   "id": "6d0f0c8b",
   "metadata": {},
   "outputs": [
    {
     "name": "stdout",
     "output_type": "stream",
     "text": [
      "enter character=H\n",
      "consonats\n"
     ]
    }
   ],
   "source": [
    "a='A','E','I','O','U','B','H','K','H','P'\n",
    "character=input('enter character=')\n",
    "if character in'a':\n",
    "    print('vowels')\n",
    "else:\n",
    "    print('consonats')\n",
    "\n"
   ]
  }
 ],
 "metadata": {
  "kernelspec": {
   "display_name": "Python 3 (ipykernel)",
   "language": "python",
   "name": "python3"
  },
  "language_info": {
   "codemirror_mode": {
    "name": "ipython",
    "version": 3
   },
   "file_extension": ".py",
   "mimetype": "text/x-python",
   "name": "python",
   "nbconvert_exporter": "python",
   "pygments_lexer": "ipython3",
   "version": "3.9.13"
  }
 },
 "nbformat": 4,
 "nbformat_minor": 5
}
