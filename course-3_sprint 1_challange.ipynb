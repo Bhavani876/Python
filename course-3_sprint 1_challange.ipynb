{
 "cells": [
  {
   "cell_type": "markdown",
   "id": "d6189828",
   "metadata": {},
   "source": [
    "# sprint1_challange"
   ]
  },
  {
   "cell_type": "markdown",
   "id": "51c52fdb",
   "metadata": {},
   "source": [
    "# practice 1"
   ]
  },
  {
   "cell_type": "code",
   "execution_count": null,
   "id": "4dcccb26",
   "metadata": {},
   "outputs": [],
   "source": [
    "Area of a circle=3.14\n",
    "radius=6"
   ]
  },
  {
   "cell_type": "code",
   "execution_count": 21,
   "id": "a5f173c4",
   "metadata": {},
   "outputs": [
    {
     "name": "stdout",
     "output_type": "stream",
     "text": [
      "113.03999999999999\n"
     ]
    }
   ],
   "source": [
    "c=3.14*6*6\n",
    "print(c)"
   ]
  },
  {
   "cell_type": "markdown",
   "id": "b4c935a0",
   "metadata": {},
   "source": [
    "# practice 2"
   ]
  },
  {
   "cell_type": "code",
   "execution_count": 24,
   "id": "1a9b76ef",
   "metadata": {},
   "outputs": [],
   "source": [
    "selling_price=85\n",
    "sales_tax=18/100    "
   ]
  },
  {
   "cell_type": "code",
   "execution_count": 25,
   "id": "49ce0e45",
   "metadata": {},
   "outputs": [
    {
     "name": "stdout",
     "output_type": "stream",
     "text": [
      "15.299999999999999\n"
     ]
    }
   ],
   "source": [
    "tax =selling_price*sales_tax\n",
    "print(tax)  "
   ]
  },
  {
   "cell_type": "code",
   "execution_count": 26,
   "id": "b35b097c",
   "metadata": {},
   "outputs": [
    {
     "name": "stdout",
     "output_type": "stream",
     "text": [
      "85.18\n"
     ]
    }
   ],
   "source": [
    "totalinclusive=(selling_price+sales_tax)\n",
    "print(totalinclusive)              #total"
   ]
  },
  {
   "cell_type": "markdown",
   "id": "fdc334ee",
   "metadata": {},
   "source": [
    "# practice 3"
   ]
  },
  {
   "cell_type": "code",
   "execution_count": 27,
   "id": "fd2d45a1",
   "metadata": {},
   "outputs": [
    {
     "name": "stdout",
     "output_type": "stream",
     "text": [
      "0.022502250225022502\n"
     ]
    }
   ],
   "source": [
    "doller1=75\n",
    "money=3333\n",
    "print(doller1/money)"
   ]
  },
  {
   "cell_type": "markdown",
   "id": "1a4e245d",
   "metadata": {},
   "source": [
    "# practice 4"
   ]
  },
  {
   "cell_type": "code",
   "execution_count": 28,
   "id": "c1e040cf",
   "metadata": {},
   "outputs": [
    {
     "name": "stdout",
     "output_type": "stream",
     "text": [
      "purchasing power of $500 last year is 467.2897196261682\n"
     ]
    }
   ],
   "source": [
    "inflationrate=0.07\n",
    "latercpi=500\n",
    "earilercpi=latercpi/(inflationrate+1)\n",
    "print('purchasing power of $500 last year is',earilercpi)"
   ]
  },
  {
   "cell_type": "markdown",
   "id": "e83b4299",
   "metadata": {},
   "source": [
    "# practice 5"
   ]
  },
  {
   "cell_type": "code",
   "execution_count": 5,
   "id": "27e6b53c",
   "metadata": {},
   "outputs": [
    {
     "name": "stdout",
     "output_type": "stream",
     "text": [
      "Enter your name=Bhavani\n",
      "Enter your name=python\n",
      "Hello I'm Bhavani I'm learning python\n"
     ]
    }
   ],
   "source": [
    "name=input('Enter your name=')\n",
    "language=input('Enter your name=')\n",
    "print('Hello I\\'m {} I\\'m learning {}'.format(name,language))"
   ]
  },
  {
   "cell_type": "markdown",
   "id": "b222ca16",
   "metadata": {},
   "source": [
    "# practice 6"
   ]
  },
  {
   "cell_type": "code",
   "execution_count": 17,
   "id": "1b0b924c",
   "metadata": {},
   "outputs": [
    {
     "name": "stdout",
     "output_type": "stream",
     "text": [
      "Enter your principal amount=3\n",
      "Enter your time=4\n",
      "Enter your rate=6\n",
      "0.72\n"
     ]
    }
   ],
   "source": [
    "p=int(input('Enter your principal amount='))\n",
    "t=int(input('Enter your time='))\n",
    "r=int(input('Enter your rate='))\n",
    "si=(p*t*r/100)\n",
    "print(si)"
   ]
  },
  {
   "cell_type": "markdown",
   "id": "6c9d02a5",
   "metadata": {},
   "source": [
    "# practice 7"
   ]
  },
  {
   "cell_type": "code",
   "execution_count": 11,
   "id": "db62c300",
   "metadata": {},
   "outputs": [
    {
     "name": "stdout",
     "output_type": "stream",
     "text": [
      "Enter your amount=400\n",
      "Enter your principal amount=53\n",
      "Enter your rate=45\n",
      "Enter your time=54\n",
      "400\n"
     ]
    }
   ],
   "source": [
    "a=int(input('Enter your amount='))\n",
    "p=int(input('Enter your principal amount='))\n",
    "r=int(input('Enter your rate='))\n",
    "t=int(input('Enter your time='))\n",
    "c=a-p\n",
    "ci=int(p*(1+r/100)**t)\n",
    "print(a)"
   ]
  },
  {
   "cell_type": "code",
   "execution_count": null,
   "id": "01dd054f",
   "metadata": {},
   "outputs": [],
   "source": [
    "r=int(input('Enter your rate='))\n",
    "t=int(input('Enter your time='))\n",
    "=int(p(1+r/100)**t)\n",
    "print(a"
   ]
  },
  {
   "cell_type": "markdown",
   "id": "ab74c8d7",
   "metadata": {},
   "source": [
    "# practice 8"
   ]
  },
  {
   "cell_type": "code",
   "execution_count": 17,
   "id": "06ef0383",
   "metadata": {},
   "outputs": [
    {
     "name": "stdout",
     "output_type": "stream",
     "text": [
      "a= 5 b= 4\n"
     ]
    }
   ],
   "source": [
    "a=4\n",
    "b=5\n",
    "a,b=b,a  \n",
    "print('a=',a,'b=',b)\n"
   ]
  },
  {
   "cell_type": "markdown",
   "id": "dcb5539c",
   "metadata": {},
   "source": [
    "# practice 9"
   ]
  },
  {
   "cell_type": "code",
   "execution_count": 5,
   "id": "9c73f396",
   "metadata": {},
   "outputs": [
    {
     "name": "stdout",
     "output_type": "stream",
     "text": [
      "Enter distance in km= 3\n",
      "distance in miles = 1.8641130000000001\n"
     ]
    }
   ],
   "source": [
    "a=int(input('Enter distance in km= '))\n",
    "b=a*0.621371\n",
    "print('distance in miles =' ,b)"
   ]
  },
  {
   "cell_type": "markdown",
   "id": "101ff4fa",
   "metadata": {},
   "source": [
    "# practice 10"
   ]
  },
  {
   "cell_type": "code",
   "execution_count": 9,
   "id": "6fcde87d",
   "metadata": {},
   "outputs": [
    {
     "name": "stdout",
     "output_type": "stream",
     "text": [
      "2 *1= 2\n"
     ]
    }
   ],
   "source": [
    "a=2\n",
    "print(('{} *1=').format(a),a*1)"
   ]
  },
  {
   "cell_type": "code",
   "execution_count": 11,
   "id": "ebd04611",
   "metadata": {},
   "outputs": [
    {
     "name": "stdout",
     "output_type": "stream",
     "text": [
      "2 *2= 4\n"
     ]
    }
   ],
   "source": [
    "a=2\n",
    "print(('{} *2=').format(a),a*2)"
   ]
  },
  {
   "cell_type": "code",
   "execution_count": 13,
   "id": "e0acf221",
   "metadata": {},
   "outputs": [
    {
     "name": "stdout",
     "output_type": "stream",
     "text": [
      "2 *3= 6\n"
     ]
    }
   ],
   "source": [
    "a=2\n",
    "print(('{} *3=').format(a),a*3)"
   ]
  },
  {
   "cell_type": "code",
   "execution_count": 14,
   "id": "05fecc6c",
   "metadata": {},
   "outputs": [
    {
     "name": "stdout",
     "output_type": "stream",
     "text": [
      "2 *4= 8\n"
     ]
    }
   ],
   "source": [
    "a=2\n",
    "print(('{} *4=').format(a),a*4)"
   ]
  },
  {
   "cell_type": "code",
   "execution_count": 15,
   "id": "98af90a7",
   "metadata": {},
   "outputs": [
    {
     "name": "stdout",
     "output_type": "stream",
     "text": [
      "2 *5= 10\n"
     ]
    }
   ],
   "source": [
    "a=2\n",
    "print(('{} *5=').format(a),a*5)"
   ]
  },
  {
   "cell_type": "code",
   "execution_count": 16,
   "id": "5e36f216",
   "metadata": {},
   "outputs": [
    {
     "name": "stdout",
     "output_type": "stream",
     "text": [
      "2 *6= 12\n"
     ]
    }
   ],
   "source": [
    "a=2\n",
    "print(('{} *6=').format(a),a*6)"
   ]
  },
  {
   "cell_type": "code",
   "execution_count": 17,
   "id": "14eb7d00",
   "metadata": {},
   "outputs": [
    {
     "name": "stdout",
     "output_type": "stream",
     "text": [
      "2 *7= 14\n"
     ]
    }
   ],
   "source": [
    "a=2\n",
    "print(('{} *7=').format(a),a*7)"
   ]
  },
  {
   "cell_type": "code",
   "execution_count": 18,
   "id": "e4f9c774",
   "metadata": {},
   "outputs": [
    {
     "name": "stdout",
     "output_type": "stream",
     "text": [
      "2 *8= 16\n"
     ]
    }
   ],
   "source": [
    "a=2\n",
    "print(('{} *8=').format(a),a*8)"
   ]
  },
  {
   "cell_type": "code",
   "execution_count": 19,
   "id": "62b6eab1",
   "metadata": {},
   "outputs": [
    {
     "name": "stdout",
     "output_type": "stream",
     "text": [
      "2 *9= 18\n"
     ]
    }
   ],
   "source": [
    "a=2\n",
    "print(('{} *9=').format(a),a*9)"
   ]
  },
  {
   "cell_type": "code",
   "execution_count": 20,
   "id": "f3cdefb0",
   "metadata": {},
   "outputs": [
    {
     "name": "stdout",
     "output_type": "stream",
     "text": [
      "2 *10= 20\n"
     ]
    }
   ],
   "source": [
    "a=2\n",
    "print(('{} *10=').format(a),a*10)"
   ]
  },
  {
   "cell_type": "code",
   "execution_count": null,
   "id": "2f61fa3f",
   "metadata": {},
   "outputs": [],
   "source": []
  }
 ],
 "metadata": {
  "kernelspec": {
   "display_name": "Python 3 (ipykernel)",
   "language": "python",
   "name": "python3"
  },
  "language_info": {
   "codemirror_mode": {
    "name": "ipython",
    "version": 3
   },
   "file_extension": ".py",
   "mimetype": "text/x-python",
   "name": "python",
   "nbconvert_exporter": "python",
   "pygments_lexer": "ipython3",
   "version": "3.9.13"
  }
 },
 "nbformat": 4,
 "nbformat_minor": 5
}
