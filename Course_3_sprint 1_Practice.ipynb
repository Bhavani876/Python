{
 "cells": [
  {
   "cell_type": "markdown",
   "id": "25aea5b7",
   "metadata": {},
   "source": [
    "# SPRINT 1 PRACTICE"
   ]
  },
  {
   "cell_type": "code",
   "execution_count": null,
   "id": "94cc675c",
   "metadata": {},
   "outputs": [],
   "source": [
    "# practice 1(a)\n"
   ]
  },
  {
   "cell_type": "code",
   "execution_count": 102,
   "id": "b0d8e3f1",
   "metadata": {},
   "outputs": [
    {
     "name": "stdout",
     "output_type": "stream",
     "text": [
      "27\n",
      "2503218719856\n"
     ]
    },
    {
     "data": {
      "text/plain": [
       "int"
      ]
     },
     "execution_count": 102,
     "metadata": {},
     "output_type": "execute_result"
    }
   ],
   "source": [
    "roll_no=27\n",
    "print(roll_no)\n",
    "print(id(roll_no))\n",
    "type(roll_no)"
   ]
  },
  {
   "cell_type": "code",
   "execution_count": null,
   "id": "9f704e6f",
   "metadata": {},
   "outputs": [],
   "source": [
    "#b"
   ]
  },
  {
   "cell_type": "code",
   "execution_count": 67,
   "id": "cc7473a8",
   "metadata": {},
   "outputs": [
    {
     "name": "stdout",
     "output_type": "stream",
     "text": [
      "soni\n",
      "2503303204656\n"
     ]
    },
    {
     "data": {
      "text/plain": [
       "str"
      ]
     },
     "execution_count": 67,
     "metadata": {},
     "output_type": "execute_result"
    }
   ],
   "source": [
    "first_name = 'soni'\n",
    "print(first_name)\n",
    "print(id(first_name))\n",
    "type(first_name)"
   ]
  },
  {
   "cell_type": "code",
   "execution_count": null,
   "id": "a89ff127",
   "metadata": {},
   "outputs": [],
   "source": [
    "#c"
   ]
  },
  {
   "cell_type": "code",
   "execution_count": 103,
   "id": "34760d2c",
   "metadata": {},
   "outputs": [
    {
     "name": "stdout",
     "output_type": "stream",
     "text": [
      "singh\n",
      "2503303337776\n"
     ]
    },
    {
     "data": {
      "text/plain": [
       "str"
      ]
     },
     "execution_count": 103,
     "metadata": {},
     "output_type": "execute_result"
    }
   ],
   "source": [
    "last_name = 'singh'\n",
    "print(last_name)\n",
    "print(id(last_name))\n",
    "type(last_name)"
   ]
  },
  {
   "cell_type": "code",
   "execution_count": null,
   "id": "2f72aeb9",
   "metadata": {},
   "outputs": [],
   "source": [
    "#d"
   ]
  },
  {
   "cell_type": "code",
   "execution_count": 104,
   "id": "097f1041",
   "metadata": {},
   "outputs": [
    {
     "name": "stdout",
     "output_type": "stream",
     "text": [
      "50\n",
      "2503218720592\n"
     ]
    },
    {
     "data": {
      "text/plain": [
       "int"
      ]
     },
     "execution_count": 104,
     "metadata": {},
     "output_type": "execute_result"
    }
   ],
   "source": [
    "maxmarks=50\n",
    "print(maxmarks)\n",
    "print(id(maxmarks))\n",
    "type(maxmarks)"
   ]
  },
  {
   "cell_type": "markdown",
   "id": "25dbd2ad",
   "metadata": {},
   "source": [
    "# practice 2 (Naming of variable)"
   ]
  },
  {
   "cell_type": "code",
   "execution_count": 4,
   "id": "b898bcdd",
   "metadata": {},
   "outputs": [],
   "source": [
    "var1 = 2"
   ]
  },
  {
   "cell_type": "code",
   "execution_count": null,
   "id": "0db9cf89",
   "metadata": {},
   "outputs": [],
   "source": [
    "# the is syntax is true because variables start with alphabeticals."
   ]
  },
  {
   "cell_type": "code",
   "execution_count": 46,
   "id": "117f4aee",
   "metadata": {},
   "outputs": [
    {
     "ename": "SyntaxError",
     "evalue": "invalid syntax (2593071960.py, line 1)",
     "output_type": "error",
     "traceback": [
      "\u001b[1;36m  File \u001b[1;32m\"C:\\Users\\mail4\\AppData\\Local\\Temp\\ipykernel_12944\\2593071960.py\"\u001b[1;36m, line \u001b[1;32m1\u001b[0m\n\u001b[1;33m    2var = 2\u001b[0m\n\u001b[1;37m     ^\u001b[0m\n\u001b[1;31mSyntaxError\u001b[0m\u001b[1;31m:\u001b[0m invalid syntax\n"
     ]
    }
   ],
   "source": [
    "2var = 2"
   ]
  },
  {
   "cell_type": "markdown",
   "id": "b395f260",
   "metadata": {},
   "source": [
    "#variables names cannot start with numbers."
   ]
  },
  {
   "cell_type": "code",
   "execution_count": 7,
   "id": "f74d9209",
   "metadata": {},
   "outputs": [
    {
     "ename": "SyntaxError",
     "evalue": "invalid syntax (1069141224.py, line 1)",
     "output_type": "error",
     "traceback": [
      "\u001b[1;36m  File \u001b[1;32m\"C:\\Users\\mail4\\AppData\\Local\\Temp\\ipykernel_15656\\1069141224.py\"\u001b[1;36m, line \u001b[1;32m1\u001b[0m\n\u001b[1;33m    var 1 = 2\u001b[0m\n\u001b[1;37m        ^\u001b[0m\n\u001b[1;31mSyntaxError\u001b[0m\u001b[1;31m:\u001b[0m invalid syntax\n"
     ]
    }
   ],
   "source": [
    "var 1 = 2"
   ]
  },
  {
   "cell_type": "code",
   "execution_count": null,
   "id": "0e50ef2a",
   "metadata": {},
   "outputs": [],
   "source": [
    "# there is no space btw variable and numeric value."
   ]
  },
  {
   "cell_type": "code",
   "execution_count": 8,
   "id": "efe27aa4",
   "metadata": {},
   "outputs": [
    {
     "ename": "SyntaxError",
     "evalue": "invalid syntax (2085239645.py, line 1)",
     "output_type": "error",
     "traceback": [
      "\u001b[1;36m  File \u001b[1;32m\"C:\\Users\\mail4\\AppData\\Local\\Temp\\ipykernel_15656\\2085239645.py\"\u001b[1;36m, line \u001b[1;32m1\u001b[0m\n\u001b[1;33m    var$2 = 2\u001b[0m\n\u001b[1;37m       ^\u001b[0m\n\u001b[1;31mSyntaxError\u001b[0m\u001b[1;31m:\u001b[0m invalid syntax\n"
     ]
    }
   ],
   "source": [
    "var$2 = 2"
   ]
  },
  {
   "cell_type": "code",
   "execution_count": null,
   "id": "5e17478c",
   "metadata": {},
   "outputs": [],
   "source": [
    "#  variable names can't have special characters."
   ]
  },
  {
   "cell_type": "markdown",
   "id": "9fd383dd",
   "metadata": {},
   "source": [
    "# practice 3 (Assigning values to a variables)"
   ]
  },
  {
   "cell_type": "code",
   "execution_count": 9,
   "id": "fc44ba1b",
   "metadata": {},
   "outputs": [],
   "source": [
    "Class = 15"
   ]
  },
  {
   "cell_type": "code",
   "execution_count": 10,
   "id": "87f91561",
   "metadata": {},
   "outputs": [
    {
     "ename": "SyntaxError",
     "evalue": "invalid syntax (1850406401.py, line 1)",
     "output_type": "error",
     "traceback": [
      "\u001b[1;36m  File \u001b[1;32m\"C:\\Users\\mail4\\AppData\\Local\\Temp\\ipykernel_15656\\1850406401.py\"\u001b[1;36m, line \u001b[1;32m1\u001b[0m\n\u001b[1;33m    class = 15\u001b[0m\n\u001b[1;37m          ^\u001b[0m\n\u001b[1;31mSyntaxError\u001b[0m\u001b[1;31m:\u001b[0m invalid syntax\n"
     ]
    }
   ],
   "source": [
    "class = 15"
   ]
  },
  {
   "cell_type": "code",
   "execution_count": null,
   "id": "1233d7cf",
   "metadata": {},
   "outputs": [],
   "source": [
    "#python is case senstive language."
   ]
  },
  {
   "cell_type": "code",
   "execution_count": 11,
   "id": "70aa8d27",
   "metadata": {},
   "outputs": [],
   "source": [
    "DEF = 13"
   ]
  },
  {
   "cell_type": "code",
   "execution_count": 12,
   "id": "81d89e3f",
   "metadata": {},
   "outputs": [
    {
     "ename": "SyntaxError",
     "evalue": "invalid syntax (1759817278.py, line 1)",
     "output_type": "error",
     "traceback": [
      "\u001b[1;36m  File \u001b[1;32m\"C:\\Users\\mail4\\AppData\\Local\\Temp\\ipykernel_15656\\1759817278.py\"\u001b[1;36m, line \u001b[1;32m1\u001b[0m\n\u001b[1;33m    def = 12\u001b[0m\n\u001b[1;37m        ^\u001b[0m\n\u001b[1;31mSyntaxError\u001b[0m\u001b[1;31m:\u001b[0m invalid syntax\n"
     ]
    }
   ],
   "source": [
    "def = 12"
   ]
  },
  {
   "cell_type": "code",
   "execution_count": null,
   "id": "3942428e",
   "metadata": {},
   "outputs": [],
   "source": [
    "#python is case senstive language."
   ]
  },
  {
   "cell_type": "code",
   "execution_count": 64,
   "id": "36fdf4d3",
   "metadata": {},
   "outputs": [
    {
     "ename": "NameError",
     "evalue": "name 'tRUE' is not defined",
     "output_type": "error",
     "traceback": [
      "\u001b[1;31m---------------------------------------------------------------------------\u001b[0m",
      "\u001b[1;31mNameError\u001b[0m                                 Traceback (most recent call last)",
      "\u001b[1;32m~\\AppData\\Local\\Temp\\ipykernel_15656\\406077965.py\u001b[0m in \u001b[0;36m<module>\u001b[1;34m\u001b[0m\n\u001b[1;32m----> 1\u001b[1;33m \u001b[0ma\u001b[0m\u001b[1;33m=\u001b[0m\u001b[0mtRUE\u001b[0m\u001b[1;33m\u001b[0m\u001b[1;33m\u001b[0m\u001b[0m\n\u001b[0m",
      "\u001b[1;31mNameError\u001b[0m: name 'tRUE' is not defined"
     ]
    }
   ],
   "source": [
    "a=TRUE"
   ]
  },
  {
   "cell_type": "code",
   "execution_count": null,
   "id": "2605927e",
   "metadata": {},
   "outputs": [],
   "source": [
    "#TRUE should  write like 'True', why because python is case  senstive language."
   ]
  },
  {
   "cell_type": "code",
   "execution_count": 72,
   "id": "ec14b08e",
   "metadata": {},
   "outputs": [
    {
     "ename": "NameError",
     "evalue": "name 'false' is not defined",
     "output_type": "error",
     "traceback": [
      "\u001b[1;31m---------------------------------------------------------------------------\u001b[0m",
      "\u001b[1;31mNameError\u001b[0m                                 Traceback (most recent call last)",
      "\u001b[1;32m~\\AppData\\Local\\Temp\\ipykernel_15656\\209756984.py\u001b[0m in \u001b[0;36m<module>\u001b[1;34m\u001b[0m\n\u001b[1;32m----> 1\u001b[1;33m \u001b[0mb\u001b[0m\u001b[1;33m=\u001b[0m\u001b[0mfalse\u001b[0m\u001b[1;33m\u001b[0m\u001b[1;33m\u001b[0m\u001b[0m\n\u001b[0m",
      "\u001b[1;31mNameError\u001b[0m: name 'false' is not defined"
     ]
    }
   ],
   "source": [
    "b=false"
   ]
  },
  {
   "cell_type": "code",
   "execution_count": null,
   "id": "05bd51e9",
   "metadata": {},
   "outputs": [],
   "source": [
    "# false should  write like 'False', why because python is case  senstive language."
   ]
  },
  {
   "cell_type": "markdown",
   "id": "2fb2fa7b",
   "metadata": {},
   "source": [
    "# practice 4 (Using (id))"
   ]
  },
  {
   "cell_type": "code",
   "execution_count": 68,
   "id": "754a7ab7",
   "metadata": {},
   "outputs": [
    {
     "name": "stdout",
     "output_type": "stream",
     "text": [
      "3.5\n",
      "2503302359440\n"
     ]
    },
    {
     "data": {
      "text/plain": [
       "float"
      ]
     },
     "execution_count": 68,
     "metadata": {},
     "output_type": "execute_result"
    }
   ],
   "source": [
    "#a\n",
    "varmarks=3.5\n",
    "print(varmarks)\n",
    "print(id(varmarks))\n",
    "type(varmarks)"
   ]
  },
  {
   "cell_type": "code",
   "execution_count": 70,
   "id": "8771ccca",
   "metadata": {},
   "outputs": [
    {
     "name": "stdout",
     "output_type": "stream",
     "text": [
      "4.6\n",
      "2503302359056\n"
     ]
    },
    {
     "data": {
      "text/plain": [
       "float"
      ]
     },
     "execution_count": 70,
     "metadata": {},
     "output_type": "execute_result"
    }
   ],
   "source": [
    "#b\n",
    "varmarks=4.6\n",
    "print(varmarks)\n",
    "print(id(varmarks))\n",
    "type(varmarks)"
   ]
  },
  {
   "cell_type": "code",
   "execution_count": null,
   "id": "64a748b9",
   "metadata": {},
   "outputs": [],
   "source": [
    "#The id in the last two no's are not same ."
   ]
  },
  {
   "cell_type": "markdown",
   "id": "6c3f5a80",
   "metadata": {},
   "source": [
    "# practice 5 (Formatting the output)"
   ]
  },
  {
   "cell_type": "code",
   "execution_count": 8,
   "id": "4508f565",
   "metadata": {},
   "outputs": [
    {
     "name": "stdout",
     "output_type": "stream",
     "text": [
      "81.0 %\n"
     ]
    }
   ],
   "source": [
    "#a\n",
    "mark =81\n",
    "print((mark/100)*100,'%')"
   ]
  },
  {
   "cell_type": "code",
   "execution_count": 96,
   "id": "efbdfdb6",
   "metadata": {},
   "outputs": [
    {
     "name": "stdout",
     "output_type": "stream",
     "text": [
      "John Doe\n"
     ]
    }
   ],
   "source": [
    "#b\n",
    "fullname = firstname+' '+lastname\n",
    "firstname = 'John'\n",
    "lastname = 'Doe'\n",
    "print(fullname) # fullname"
   ]
  },
  {
   "cell_type": "code",
   "execution_count": 13,
   "id": "aa59f8aa",
   "metadata": {},
   "outputs": [
    {
     "name": "stdout",
     "output_type": "stream",
     "text": [
      "John Doe scored 81.0 %\n"
     ]
    }
   ],
   "source": [
    "#c\n",
    "firstname = 'John'\n",
    "lastname = 'Doe'\n",
    "mark = 81\n",
    "print(firstname+' '+lastname, \"scored\",(mark/100)*100,'%')"
   ]
  },
  {
   "cell_type": "code",
   "execution_count": null,
   "id": "eca96f86",
   "metadata": {},
   "outputs": [],
   "source": []
  },
  {
   "cell_type": "markdown",
   "id": "5fe77a5f",
   "metadata": {},
   "source": [
    "# practice 6 (Creating data structure)\n"
   ]
  },
  {
   "cell_type": "code",
   "execution_count": 118,
   "id": "15a8b69b",
   "metadata": {},
   "outputs": [
    {
     "name": "stdout",
     "output_type": "stream",
     "text": [
      "{11: 'soni', 12: 'ram'}\n",
      "<class 'list'>\n"
     ]
    }
   ],
   "source": [
    "roll_no={11: 'soni' ,12 :\"ram\"}\n",
    "print(roll_no)\n",
    "print(type(a))"
   ]
  },
  {
   "cell_type": "code",
   "execution_count": 117,
   "id": "232b1321",
   "metadata": {},
   "outputs": [
    {
     "name": "stdout",
     "output_type": "stream",
     "text": [
      "[10, 'soni singh', 500]\n",
      "<class 'list'>\n"
     ]
    }
   ],
   "source": [
    "a=[10, \"soni singh\", 500]\n",
    "print(a)\n",
    "print(type(a))"
   ]
  },
  {
   "cell_type": "markdown",
   "id": "9943c61c",
   "metadata": {},
   "source": [
    "# practice 7 (Arthimatic operation)"
   ]
  },
  {
   "cell_type": "code",
   "execution_count": 31,
   "id": "d2e6fece",
   "metadata": {},
   "outputs": [
    {
     "ename": "TypeError",
     "evalue": "unsupported operand type(s) for +: 'int' and 'str'",
     "output_type": "error",
     "traceback": [
      "\u001b[1;31m---------------------------------------------------------------------------\u001b[0m",
      "\u001b[1;31mTypeError\u001b[0m                                 Traceback (most recent call last)",
      "\u001b[1;32m~\\AppData\\Local\\Temp\\ipykernel_15656\\54392328.py\u001b[0m in \u001b[0;36m<module>\u001b[1;34m\u001b[0m\n\u001b[1;32m----> 1\u001b[1;33m \u001b[1;36m1\u001b[0m \u001b[1;33m+\u001b[0m \u001b[1;34m\"2\"\u001b[0m\u001b[1;33m\u001b[0m\u001b[1;33m\u001b[0m\u001b[0m\n\u001b[0m",
      "\u001b[1;31mTypeError\u001b[0m: unsupported operand type(s) for +: 'int' and 'str'"
     ]
    }
   ],
   "source": [
    "1 + \"2\""
   ]
  },
  {
   "cell_type": "code",
   "execution_count": null,
   "id": "f3a01aaf",
   "metadata": {},
   "outputs": [],
   "source": [
    "#1 and 2 are in addition operation but there is no str in one character."
   ]
  },
  {
   "cell_type": "code",
   "execution_count": 32,
   "id": "5c20a35f",
   "metadata": {},
   "outputs": [
    {
     "data": {
      "text/plain": [
       "'12'"
      ]
     },
     "execution_count": 32,
     "metadata": {},
     "output_type": "execute_result"
    }
   ],
   "source": [
    "\"1\" + \"2\""
   ]
  },
  {
   "cell_type": "code",
   "execution_count": null,
   "id": "5d6e8d4e",
   "metadata": {},
   "outputs": [],
   "source": [
    "# 1 and 2 are in addition operation with str."
   ]
  },
  {
   "cell_type": "code",
   "execution_count": 33,
   "id": "8e054c19",
   "metadata": {},
   "outputs": [
    {
     "data": {
      "text/plain": [
       "0.5"
      ]
     },
     "execution_count": 33,
     "metadata": {},
     "output_type": "execute_result"
    }
   ],
   "source": [
    "1/2"
   ]
  },
  {
   "cell_type": "code",
   "execution_count": null,
   "id": "6480199d",
   "metadata": {},
   "outputs": [],
   "source": [
    "#float containing decimal values."
   ]
  },
  {
   "cell_type": "code",
   "execution_count": 34,
   "id": "ab8db02f",
   "metadata": {},
   "outputs": [
    {
     "data": {
      "text/plain": [
       "0"
      ]
     },
     "execution_count": 34,
     "metadata": {},
     "output_type": "execute_result"
    }
   ],
   "source": [
    "1//2"
   ]
  },
  {
   "cell_type": "code",
   "execution_count": null,
   "id": "e6a94763",
   "metadata": {},
   "outputs": [],
   "source": [
    "#floor containing without decimal values."
   ]
  },
  {
   "cell_type": "markdown",
   "id": "7c0ce46a",
   "metadata": {},
   "source": [
    "# practice 8 (Logical operators)"
   ]
  },
  {
   "cell_type": "code",
   "execution_count": 39,
   "id": "b1ff9290",
   "metadata": {},
   "outputs": [
    {
     "name": "stdout",
     "output_type": "stream",
     "text": [
      "True\n"
     ]
    }
   ],
   "source": [
    "a='True'\n",
    "b='True'\n",
    "print(a and b)"
   ]
  },
  {
   "cell_type": "code",
   "execution_count": null,
   "id": "2e85511b",
   "metadata": {},
   "outputs": [],
   "source": []
  },
  {
   "cell_type": "code",
   "execution_count": 40,
   "id": "71c60625",
   "metadata": {},
   "outputs": [
    {
     "name": "stdout",
     "output_type": "stream",
     "text": [
      "False\n"
     ]
    }
   ],
   "source": [
    "a='True'\n",
    "b='False'\n",
    "print(a and b)"
   ]
  },
  {
   "cell_type": "code",
   "execution_count": 42,
   "id": "17191f4c",
   "metadata": {},
   "outputs": [
    {
     "name": "stdout",
     "output_type": "stream",
     "text": [
      "True\n"
     ]
    }
   ],
   "source": [
    "a='False'\n",
    "b='True'\n",
    "print(a and b)"
   ]
  },
  {
   "cell_type": "code",
   "execution_count": 43,
   "id": "a5abd584",
   "metadata": {},
   "outputs": [
    {
     "name": "stdout",
     "output_type": "stream",
     "text": [
      "False\n"
     ]
    }
   ],
   "source": [
    "a='False'\n",
    "b='False'\n",
    "print(a and b)"
   ]
  },
  {
   "cell_type": "markdown",
   "id": "fd2a6727",
   "metadata": {},
   "source": [
    "# practice 9 (Identity and Membership operations)"
   ]
  },
  {
   "cell_type": "code",
   "execution_count": 148,
   "id": "14244252",
   "metadata": {},
   "outputs": [
    {
     "data": {
      "text/plain": [
       "True"
      ]
     },
     "execution_count": 148,
     "metadata": {},
     "output_type": "execute_result"
    }
   ],
   "source": [
    "firstname='Bhavani'\n",
    "fullname='Bhavani Achary'\n",
    "firstname in fullname"
   ]
  },
  {
   "cell_type": "code",
   "execution_count": 147,
   "id": "273fc454",
   "metadata": {},
   "outputs": [
    {
     "data": {
      "text/plain": [
       "False"
      ]
     },
     "execution_count": 147,
     "metadata": {},
     "output_type": "execute_result"
    }
   ],
   "source": [
    "firstname='Bhavani'\n",
    "fullname='Bhavani Achary'\n",
    "firstname is fullname"
   ]
  },
  {
   "cell_type": "markdown",
   "id": "86490acc",
   "metadata": {},
   "source": [
    "# practice 10 (Associative)"
   ]
  },
  {
   "cell_type": "code",
   "execution_count": null,
   "id": "6c476752",
   "metadata": {},
   "outputs": [],
   "source": [
    "if a=4,b=3,c=2\n",
    "d=a**b+c\n",
    "e=a**(b+C)"
   ]
  },
  {
   "cell_type": "code",
   "execution_count": null,
   "id": "c4bb368d",
   "metadata": {},
   "outputs": [],
   "source": [
    "#a"
   ]
  },
  {
   "cell_type": "code",
   "execution_count": 55,
   "id": "99d129c5",
   "metadata": {},
   "outputs": [
    {
     "name": "stdout",
     "output_type": "stream",
     "text": [
      "66\n"
     ]
    }
   ],
   "source": [
    "d=4**3+2\n",
    "print(d)"
   ]
  },
  {
   "cell_type": "code",
   "execution_count": null,
   "id": "d032be05",
   "metadata": {},
   "outputs": [],
   "source": [
    "#b"
   ]
  },
  {
   "cell_type": "code",
   "execution_count": 57,
   "id": "1dd09790",
   "metadata": {},
   "outputs": [
    {
     "name": "stdout",
     "output_type": "stream",
     "text": [
      "1024\n"
     ]
    }
   ],
   "source": [
    "e=4**(3+2)\n",
    "print(e)"
   ]
  },
  {
   "cell_type": "markdown",
   "id": "85768904",
   "metadata": {},
   "source": [
    "# practice 11 (creating a basics program)"
   ]
  },
  {
   "cell_type": "code",
   "execution_count": null,
   "id": "76470979",
   "metadata": {},
   "outputs": [],
   "source": [
    "Area of a circle=3.14\n",
    "radius=6"
   ]
  },
  {
   "cell_type": "code",
   "execution_count": 14,
   "id": "3e882208",
   "metadata": {},
   "outputs": [
    {
     "name": "stdout",
     "output_type": "stream",
     "text": [
      "113.03999999999999\n"
     ]
    }
   ],
   "source": [
    "c=3.14*6*6\n",
    "print(c)"
   ]
  },
  {
   "cell_type": "code",
   "execution_count": null,
   "id": "b52cab54",
   "metadata": {},
   "outputs": [],
   "source": [
    "#113.14285 is the area of circle."
   ]
  },
  {
   "cell_type": "markdown",
   "id": "a51c7602",
   "metadata": {},
   "source": [
    "# practice 12 (creating a basics program)"
   ]
  },
  {
   "cell_type": "code",
   "execution_count": 132,
   "id": "9ea9c1af",
   "metadata": {},
   "outputs": [],
   "source": [
    "selling_price=85\n",
    "sales_tax=18/100    "
   ]
  },
  {
   "cell_type": "code",
   "execution_count": 133,
   "id": "dce15f34",
   "metadata": {},
   "outputs": [
    {
     "name": "stdout",
     "output_type": "stream",
     "text": [
      "15.299999999999999\n"
     ]
    }
   ],
   "source": [
    "tax =selling_price*sales_tax\n",
    "print(tax)  "
   ]
  },
  {
   "cell_type": "code",
   "execution_count": 134,
   "id": "532c3e25",
   "metadata": {},
   "outputs": [
    {
     "name": "stdout",
     "output_type": "stream",
     "text": [
      "85.18\n"
     ]
    }
   ],
   "source": [
    "totalinclusive=(selling_price+sales_tax)\n",
    "print(totalinclusive)              #total"
   ]
  },
  {
   "cell_type": "markdown",
   "id": "236277a6",
   "metadata": {},
   "source": [
    "# prcatice 13"
   ]
  },
  {
   "cell_type": "code",
   "execution_count": 136,
   "id": "0eafa336",
   "metadata": {},
   "outputs": [
    {
     "name": "stdout",
     "output_type": "stream",
     "text": [
      "0.022502250225022502\n"
     ]
    }
   ],
   "source": [
    "doller1=75\n",
    "money=3333\n",
    "print(doller1/money)"
   ]
  },
  {
   "cell_type": "markdown",
   "id": "8f42c6e8",
   "metadata": {},
   "source": [
    "# practice 14"
   ]
  },
  {
   "cell_type": "code",
   "execution_count": 16,
   "id": "33b12c6c",
   "metadata": {},
   "outputs": [
    {
     "name": "stdout",
     "output_type": "stream",
     "text": [
      "purchasing power of $500 last year is 467.2897196261682\n"
     ]
    }
   ],
   "source": [
    "inflationrate=0.07\n",
    "latercpi=500\n",
    "earilercpi=latercpi/(inflationrate+1)\n",
    "print('purchasing power of $500 last year is',earilercpi)"
   ]
  },
  {
   "cell_type": "code",
   "execution_count": null,
   "id": "6aae8950",
   "metadata": {},
   "outputs": [],
   "source": []
  },
  {
   "cell_type": "code",
   "execution_count": null,
   "id": "100cb6bd",
   "metadata": {},
   "outputs": [],
   "source": []
  }
 ],
 "metadata": {
  "kernelspec": {
   "display_name": "Python 3 (ipykernel)",
   "language": "python",
   "name": "python3"
  },
  "language_info": {
   "codemirror_mode": {
    "name": "ipython",
    "version": 3
   },
   "file_extension": ".py",
   "mimetype": "text/x-python",
   "name": "python",
   "nbconvert_exporter": "python",
   "pygments_lexer": "ipython3",
   "version": "3.9.13"
  }
 },
 "nbformat": 4,
 "nbformat_minor": 5
}
