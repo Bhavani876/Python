{
 "cells": [
  {
   "cell_type": "markdown",
   "id": "b641ad9f",
   "metadata": {},
   "source": [
    "# sprint_4 practice"
   ]
  },
  {
   "cell_type": "markdown",
   "id": "375d5979",
   "metadata": {},
   "source": [
    "# practice 1"
   ]
  },
  {
   "cell_type": "code",
   "execution_count": 27,
   "id": "a064b72e",
   "metadata": {},
   "outputs": [
    {
     "name": "stdout",
     "output_type": "stream",
     "text": [
      "Enter a number: 5\n",
      "The factorial is:  120\n"
     ]
    }
   ],
   "source": [
    "n = int(input(\"Enter a number: \"))\n",
    "\n",
    "result = 1\n",
    "\n",
    "while n > 0:\n",
    "    result = result * n\n",
    "    n = n - 1\n",
    "\n",
    "print(\"The factorial is: \", result)\n"
   ]
  },
  {
   "cell_type": "markdown",
   "id": "5772e9d1",
   "metadata": {},
   "source": [
    "# practice 2"
   ]
  },
  {
   "cell_type": "code",
   "execution_count": 26,
   "id": "d530c82c",
   "metadata": {},
   "outputs": [
    {
     "name": "stdout",
     "output_type": "stream",
     "text": [
      "2 3 5 7 11 13 17 19 "
     ]
    }
   ],
   "source": [
    "i = 2\n",
    "while i <= 20:\n",
    "    for j in range(2, i):\n",
    "        if i % j == 0:\n",
    "            break\n",
    "    else:\n",
    "        print(i, end=' ')\n",
    "    i=i+1"
   ]
  },
  {
   "cell_type": "markdown",
   "id": "d5e46eaa",
   "metadata": {},
   "source": [
    "#  practice 3"
   ]
  },
  {
   "cell_type": "code",
   "execution_count": 85,
   "id": "c2e52a3f",
   "metadata": {},
   "outputs": [
    {
     "name": "stdout",
     "output_type": "stream",
     "text": [
      "sum of digit is 5\n",
      "sum of digit is 9\n",
      "sum of digit is 12\n",
      "sum of digit is 14\n",
      "sum of digit is 15\n"
     ]
    }
   ],
   "source": [
    "n=12345\n",
    "s=0\n",
    "while n>0:\n",
    "    r=n%10\n",
    "    s=s+r\n",
    "    n=n//10\n",
    "    print('sum of digit is {}' .format(s))\n",
    "\n"
   ]
  },
  {
   "cell_type": "markdown",
   "id": "23894692",
   "metadata": {},
   "source": [
    "# practice 4"
   ]
  },
  {
   "cell_type": "code",
   "execution_count": 2,
   "id": "075f9d15",
   "metadata": {},
   "outputs": [
    {
     "name": "stdout",
     "output_type": "stream",
     "text": [
      "1 2 3 5 8 13 21 "
     ]
    }
   ],
   "source": [
    "a=1\n",
    "b=2\n",
    "n=1\n",
    "while n<=5:\n",
    "    c=a+b\n",
    "    if n==1:\n",
    "        \n",
    "    \tprint(a,b,c,end =' ')\n",
    "    else:\n",
    "        print(c,end = ' ')    \n",
    "    a=b\n",
    "    b=c\n",
    "    n=n+1"
   ]
  },
  {
   "cell_type": "markdown",
   "id": "b3bad01d",
   "metadata": {},
   "source": [
    "# practice 5"
   ]
  },
  {
   "cell_type": "code",
   "execution_count": 2,
   "id": "128a668e",
   "metadata": {},
   "outputs": [
    {
     "name": "stdout",
     "output_type": "stream",
     "text": [
      "2661928781440\n",
      "2661895857872\n"
     ]
    }
   ],
   "source": [
    "t1=('apple','ball','cat','dog')\n",
    "t2=('egg','fan','goat','hen')\n",
    "print(id(t1))\n",
    "print(id(t2))"
   ]
  },
  {
   "cell_type": "code",
   "execution_count": 10,
   "id": "6ddc5ff6",
   "metadata": {},
   "outputs": [
    {
     "name": "stdout",
     "output_type": "stream",
     "text": [
      "('apple', 'ball', 'cat', 'dog', 'egg', 'fan', 'goat', 'hen', 'egg', 'fan', 'goat', 'hen')\n",
      "2661898765808\n"
     ]
    }
   ],
   "source": [
    "t1=t1+t2\n",
    "t1=('apple','ball','cat','dog')+('egg','fan','goat','hen')\n",
    "print(t1+t2)\n",
    "print(id(t1))"
   ]
  },
  {
   "cell_type": "code",
   "execution_count": 16,
   "id": "2245f8b7",
   "metadata": {},
   "outputs": [
    {
     "name": "stdout",
     "output_type": "stream",
     "text": [
      "id of t1:  2399872565440\n",
      "id of t2:  2399872610944\n",
      "id of t1:  2399872565440\n",
      "id of t2:  2399872610944\n",
      "id of tl:  2399872226784\n"
     ]
    }
   ],
   "source": [
    "\n",
    "t1 = (1, 2, 3)\n",
    "t2 = (4, 5, 6)\n",
    "\n",
    "print(\"id of t1: \", id(t1))\n",
    "print(\"id of t2: \", id(t2))\n",
    "\n",
    "tl = t1 + t2\n",
    "\n",
    "print(\"id of t1: \", id(t1))\n",
    "print(\"id of t2: \", id(t2))\n",
    "print(\"id of tl: \", id(tl))\n"
   ]
  },
  {
   "cell_type": "code",
   "execution_count": null,
   "id": "2cedd860",
   "metadata": {},
   "outputs": [],
   "source": [
    "#The id of both the original tuples t1 and t2 will remain the same, whereas the newly created tuple tl will have a different id."
   ]
  },
  {
   "cell_type": "markdown",
   "id": "a6781d51",
   "metadata": {},
   "source": [
    "# practice 6"
   ]
  },
  {
   "cell_type": "code",
   "execution_count": 4,
   "id": "853eb765",
   "metadata": {},
   "outputs": [
    {
     "name": "stdout",
     "output_type": "stream",
     "text": [
      "{70, 40, 10, 50, 20, 60, 30}\n"
     ]
    }
   ],
   "source": [
    "m={10,20,30,40,50}\n",
    "n={30,40,50,60,70}\n",
    "m.update(n)\n",
    "print(m)\n",
    "\n"
   ]
  },
  {
   "cell_type": "code",
   "execution_count": null,
   "id": "3c9dd7c4",
   "metadata": {},
   "outputs": [],
   "source": [
    "# set does not allows duplicate elements."
   ]
  },
  {
   "cell_type": "markdown",
   "id": "2158fbbd",
   "metadata": {},
   "source": [
    "# practice 7"
   ]
  },
  {
   "cell_type": "code",
   "execution_count": 51,
   "id": "50a29797",
   "metadata": {},
   "outputs": [
    {
     "name": "stdout",
     "output_type": "stream",
     "text": [
      "SSH 2\n",
      "http 4\n"
     ]
    }
   ],
   "source": [
    "port1={'Ftp':1, 'SSH':2, 'telnet':3, 'http':4}\n",
    "for key, value in port1.items():\n",
    "    if value%2==0:\n",
    "        print(key, value)\n",
    "    "
   ]
  },
  {
   "cell_type": "markdown",
   "id": "abd50ced",
   "metadata": {},
   "source": [
    "# practice 8"
   ]
  },
  {
   "cell_type": "code",
   "execution_count": 13,
   "id": "24e23c69",
   "metadata": {},
   "outputs": [
    {
     "name": "stdout",
     "output_type": "stream",
     "text": [
      "{1: 1, 2: 4, 3: 9, 4: 16, 5: 25, 6: 36, 7: 49, 8: 64, 9: 81, 10: 100, 11: 121, 12: 144, 13: 169, 14: 196, 15: 225, 100: 10000}\n"
     ]
    }
   ],
   "source": [
    "squares = {}\n",
    "for i in range(1,16):\n",
    "    squares[i] = i**2\n",
    "\n",
    "squares[100] = 10000\n",
    "\n",
    "print(squares)\n"
   ]
  },
  {
   "cell_type": "markdown",
   "id": "0dd44a21",
   "metadata": {},
   "source": [
    "# practice 9"
   ]
  },
  {
   "cell_type": "code",
   "execution_count": 14,
   "id": "bbcb17c9",
   "metadata": {},
   "outputs": [
    {
     "name": "stdout",
     "output_type": "stream",
     "text": [
      "{'FTP': 21, 'SSH': 22, 'telnet': 23, 'http': 80}\n"
     ]
    }
   ],
   "source": [
    "port1 = {21: 'FTP', 22:'SSH', 23: 'telnet', 80: 'http'}\n",
    "\n",
    "port2 = {val: key for key, val in port1.items()}\n",
    "\n",
    "print(port2)"
   ]
  },
  {
   "cell_type": "markdown",
   "id": "4063f2da",
   "metadata": {},
   "source": [
    "# practice 10"
   ]
  },
  {
   "cell_type": "code",
   "execution_count": 39,
   "id": "3a7d824f",
   "metadata": {},
   "outputs": [
    {
     "name": "stdout",
     "output_type": "stream",
     "text": [
      "{'Emp1': {'name': 'Sara', 'Dept': 'IT', 'Designation': 'Team Lead'}, 'Emp2': {'name': 'Anna', 'Dept': 'IT', 'Designation': 'Senior Software Engineer'}, 'Emp3': {'name': 'Andy', 'Dept': 'BioTech', 'Designation': 'Senior Software Engineer'}}\n"
     ]
    }
   ],
   "source": [
    "Employee = {\n",
    "\n",
    "'Emp1': {'name': 'Sara', 'Dept': 'IT', 'Designation': 'Team Lead' },\n",
    "\n",
    "'Emp2': {'name': 'Anna', 'Dept': 'IT', 'Designation': 'Senior Software Engineer' },\n",
    "\n",
    "'Emp3': {'name': 'Andy', 'Dept': 'BioTech', 'Designation': 'Senior Software Engineer' },\n",
    "\n",
    "'Emp4': {'name': 'Andy', 'Dept': 'BioTech', 'Designation': 'Senior Software Engineer' }\n",
    "\n",
    "}\n",
    "    \n",
    "Emp ={}\n",
    "for key,value in Employee.items():\n",
    "    if value not in Emp.values():\n",
    "        Emp[key]=value\n",
    "print(Emp)"
   ]
  },
  {
   "cell_type": "code",
   "execution_count": null,
   "id": "e9c843f9",
   "metadata": {},
   "outputs": [],
   "source": []
  },
  {
   "cell_type": "code",
   "execution_count": null,
   "id": "f6a592a9",
   "metadata": {},
   "outputs": [],
   "source": []
  }
 ],
 "metadata": {
  "kernelspec": {
   "display_name": "Python 3 (ipykernel)",
   "language": "python",
   "name": "python3"
  },
  "language_info": {
   "codemirror_mode": {
    "name": "ipython",
    "version": 3
   },
   "file_extension": ".py",
   "mimetype": "text/x-python",
   "name": "python",
   "nbconvert_exporter": "python",
   "pygments_lexer": "ipython3",
   "version": "3.9.13"
  }
 },
 "nbformat": 4,
 "nbformat_minor": 5
}
