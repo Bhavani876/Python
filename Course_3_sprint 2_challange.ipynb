{
 "cells": [
  {
   "cell_type": "markdown",
   "id": "428c5721",
   "metadata": {},
   "source": [
    "# sprint 2 challange"
   ]
  },
  {
   "cell_type": "markdown",
   "id": "734bcc26",
   "metadata": {},
   "source": [
    "# task 1"
   ]
  },
  {
   "cell_type": "code",
   "execution_count": 11,
   "id": "58fcd9f5",
   "metadata": {},
   "outputs": [
    {
     "name": "stdout",
     "output_type": "stream",
     "text": [
      "(1920, 2100)\n",
      "enter your number=1920\n",
      "this a leap year\n"
     ]
    }
   ],
   "source": [
    "year=1920,2100\n",
    "print(year)\n",
    "year=int(input('enter your number='))\n",
    "if year%400==0:\n",
    "    print('this is leap year')\n",
    "elif year%4==0 and year%100!=0:\n",
    "    print('this a leap year')\n",
    "else:\n",
    "    print('this is not a leap year')\n",
    "\n",
    "    "
   ]
  },
  {
   "cell_type": "markdown",
   "id": "58cf93c1",
   "metadata": {},
   "source": [
    "# practice 2"
   ]
  },
  {
   "cell_type": "code",
   "execution_count": 6,
   "id": "8c59f374",
   "metadata": {},
   "outputs": [
    {
     "name": "stdout",
     "output_type": "stream",
     "text": [
      "enter your month 1 to 12 =4\n",
      "4\n",
      "april and total no.of days is 30\n"
     ]
    }
   ],
   "source": [
    "month=input('enter your month 1 to 12 =')\n",
    "print(month)\n",
    "if month=='1':\n",
    "    print('january and total no.of days is 31')\n",
    "elif month=='2':\n",
    "    print('feburary and total no.of days is 28')\n",
    "elif month=='3':\n",
    "    print('march and total no.of days is 31')\n",
    "elif month=='4':\n",
    "    print('april and total no.of days is 30')\n",
    "elif month=='5':\n",
    "    print('may and total no.of days is 31')\n",
    "elif month=='6':\n",
    "    print('june and total no.of days is 30')\n",
    "elif month=='7':\n",
    "    print('july and total no.of days is 31')\n",
    "elif month=='8':\n",
    "    print('august and total no.of days is 31')\n",
    "elif month=='9':\n",
    "    prinh('september and total no.of days is 30')\n",
    "elif month=='10':\n",
    "    print('octomber and total no.of days is 31')\n",
    "elif month=='11':\n",
    "    print('november and total no.of days is 30')\n",
    "elif month=='12':\n",
    "    print('december and total no.of days is 31')\n",
    "else: \n",
    "    print('invalid month')\n",
    "\n",
    "\n"
   ]
  },
  {
   "cell_type": "markdown",
   "id": "1e4c8023",
   "metadata": {},
   "source": [
    "# task 3"
   ]
  },
  {
   "cell_type": "code",
   "execution_count": 48,
   "id": "dc6db1b0",
   "metadata": {},
   "outputs": [
    {
     "name": "stdout",
     "output_type": "stream",
     "text": [
      "enter your amount=130\n",
      "130\n",
      "discount is 10%\n"
     ]
    }
   ],
   "source": [
    "amount=input('enter your amount=')\n",
    "print(amount)\n",
    "if amount<'100':\n",
    "    print('no discount')\n",
    "elif amount>='100' and amount<'150':\n",
    "    print('discount is 10%')\n",
    "elif amount>='150' and amount<'200':\n",
    "    print('discount is 15%')\n",
    "elif amount>='200' and amount<'250':\n",
    "    print('discount is 20%')\n",
    "elif amount>='250':\n",
    "    print('discount is 25%')\n",
    "else:\n",
    "    print('invalid')"
   ]
  },
  {
   "cell_type": "markdown",
   "id": "f14efba8",
   "metadata": {},
   "source": [
    "# practice 4"
   ]
  },
  {
   "cell_type": "code",
   "execution_count": 50,
   "id": "b068ef9a",
   "metadata": {
    "scrolled": true
   },
   "outputs": [
    {
     "name": "stdout",
     "output_type": "stream",
     "text": [
      "enter what 5 times of 2 =10\n",
      "correct\n"
     ]
    }
   ],
   "source": [
    "#1\n",
    "a=int(input('enter what 5 times of 2 ='))\n",
    "if a==10:\n",
    "    print('correct')\n",
    "else:\n",
    "    print('incorrect')"
   ]
  },
  {
   "cell_type": "code",
   "execution_count": 51,
   "id": "4f74fee1",
   "metadata": {},
   "outputs": [
    {
     "name": "stdout",
     "output_type": "stream",
     "text": [
      "enter what 56-6 =50\n",
      "correct\n"
     ]
    }
   ],
   "source": [
    "#2\n",
    "a=int(input('enter what 56-6 ='))\n",
    "if a==50:\n",
    "    print('correct')\n",
    "else:\n",
    "    print('incorrect')"
   ]
  },
  {
   "cell_type": "code",
   "execution_count": 54,
   "id": "04363278",
   "metadata": {},
   "outputs": [
    {
     "name": "stdout",
     "output_type": "stream",
     "text": [
      "enter what 8 times of 9 plus 2=72\n",
      "correct\n"
     ]
    }
   ],
   "source": [
    "#3\n",
    "a=int(input('enter what 8 times of 9 plus 2='))\n",
    "if a==72:\n",
    "    print('correct')\n",
    "else:\n",
    "    print('incorrect')\n",
    "    print('try again')"
   ]
  },
  {
   "cell_type": "code",
   "execution_count": 56,
   "id": "34e4b5f0",
   "metadata": {},
   "outputs": [
    {
     "name": "stdout",
     "output_type": "stream",
     "text": [
      "enter what 8 times of 9 plus 2=74\n",
      "correct\n",
      "well done! thanks for playing\n"
     ]
    }
   ],
   "source": [
    "#4\n",
    "a=int(input('enter what 8 times of 9 plus 2='))\n",
    "if a==74:\n",
    "    print('correct')\n",
    "    print('well done! thanks for playing')\n",
    "else:\n",
    "    print('incorrect')\n",
    "   "
   ]
  },
  {
   "cell_type": "markdown",
   "id": "1b3dde57",
   "metadata": {},
   "source": [
    "# practice 5"
   ]
  },
  {
   "cell_type": "code",
   "execution_count": 4,
   "id": "b80bae6f",
   "metadata": {},
   "outputs": [
    {
     "name": "stdout",
     "output_type": "stream",
     "text": [
      "type your choice btween \"rock\", \"paper\", \"scissors\" =rock\n",
      "scissors\n",
      "tie\n"
     ]
    }
   ],
   "source": [
    "import random\n",
    "user=input('type your choice btween \"rock\", \"paper\", \"scissors\" =')\n",
    "possibilities=[\"rock\", \"paper\", \"scissors\"]\n",
    "computer=random.choice(possibilities)\n",
    "print(computer)\n",
    "if user=='rock' and user=='rock':\n",
    "    print('tie')\n",
    "elif user=='rock' and computer=='paper':\n",
    "    print('paper win')  \n",
    "elif user=='rock' and computer=='scissor':\n",
    "    print('scissor die')  \n",
    "elif user=='paper' and computer=='paper':\n",
    "    print('tie')\n",
    "elif user=='paper' and computer=='rock':\n",
    "    print('user win')\n",
    "elif user=='paper' and computer=='scissor':\n",
    "    print('computer win')\n",
    "elif user=='scissor' and computer=='scissor':\n",
    "    print('tie')\n",
    "elif user=='scissor' and computer=='rock':\n",
    "    print('computer win')\n",
    "elif user=='scissor' and computer=='paper':\n",
    "    print('user win')\n",
    "else:\n",
    "    print('invalid')\n",
    " "
   ]
  },
  {
   "cell_type": "code",
   "execution_count": null,
   "id": "7b6efd0b",
   "metadata": {},
   "outputs": [],
   "source": []
  }
 ],
 "metadata": {
  "kernelspec": {
   "display_name": "Python 3 (ipykernel)",
   "language": "python",
   "name": "python3"
  },
  "language_info": {
   "codemirror_mode": {
    "name": "ipython",
    "version": 3
   },
   "file_extension": ".py",
   "mimetype": "text/x-python",
   "name": "python",
   "nbconvert_exporter": "python",
   "pygments_lexer": "ipython3",
   "version": "3.9.13"
  }
 },
 "nbformat": 4,
 "nbformat_minor": 5
}
