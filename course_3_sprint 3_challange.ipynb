{
 "cells": [
  {
   "cell_type": "markdown",
   "id": "095abc00",
   "metadata": {},
   "source": [
    "# sprint3 challange"
   ]
  },
  {
   "cell_type": "markdown",
   "id": "63965cad",
   "metadata": {},
   "source": [
    "# practice 1"
   ]
  },
  {
   "cell_type": "code",
   "execution_count": 9,
   "id": "8e3d4ab8",
   "metadata": {},
   "outputs": [
    {
     "name": "stdout",
     "output_type": "stream",
     "text": [
      "enter your word=apple\n",
      "enter your word=ball\n",
      "enter your word=cat\n",
      "enter your word=dog\n",
      "enter your word=egg\n",
      "enter your word=fan\n",
      "enter your word=goat\n",
      "enter your word=hen\n",
      "enter your word=ink\n",
      "enter your word=jug\n"
     ]
    }
   ],
   "source": [
    "a=[]\n",
    "for i in range(1,11):\n",
    "    a.append(input('enter your word='))\n"
   ]
  },
  {
   "cell_type": "code",
   "execution_count": 15,
   "id": "f95168f2",
   "metadata": {},
   "outputs": [
    {
     "name": "stdout",
     "output_type": "stream",
     "text": [
      "jug\n",
      "ink\n",
      "hen\n",
      "goat\n",
      "fan\n",
      "egg\n",
      "dog\n",
      "cat\n",
      "ball\n",
      "apple\n"
     ]
    }
   ],
   "source": [
    "for i in range(len(a)-1,-1,-1):\n",
    "    print(a[i])"
   ]
  },
  {
   "cell_type": "markdown",
   "id": "9db471b0",
   "metadata": {},
   "source": [
    "# practice2"
   ]
  },
  {
   "cell_type": "code",
   "execution_count": 4,
   "id": "5aa6a502",
   "metadata": {},
   "outputs": [
    {
     "name": "stdout",
     "output_type": "stream",
     "text": [
      "enter your words =apple\n",
      "enter your words =ball\n",
      "enter your words =cat\n",
      "enter your words =dog\n",
      "enter your words =egg\n",
      "enter your words =fan\n",
      "enter your words =goat\n",
      "enter your words =hen\n",
      "enter your words =ink\n",
      "enter your words =jug\n"
     ]
    }
   ],
   "source": [
    "a=[]\n",
    "for i in range(1,11):\n",
    "\ta.append(input('enter your words ='))\n",
    "\n"
   ]
  },
  {
   "cell_type": "code",
   "execution_count": 5,
   "id": "3ce6793e",
   "metadata": {},
   "outputs": [
    {
     "name": "stdout",
     "output_type": "stream",
     "text": [
      "['jug', 'ink', 'hen', 'goat', 'fan', 'egg', 'dog', 'cat', 'ball', 'apple']\n"
     ]
    }
   ],
   "source": [
    "a.reverse()\n",
    "print(a)\n",
    "    \n",
    "   "
   ]
  },
  {
   "cell_type": "markdown",
   "id": "c637dfd9",
   "metadata": {},
   "source": [
    "# practice 3"
   ]
  },
  {
   "cell_type": "code",
   "execution_count": 46,
   "id": "99e4b50f",
   "metadata": {},
   "outputs": [
    {
     "name": "stdout",
     "output_type": "stream",
     "text": [
      "Enter a word: apple\n",
      "Enter a word: ball\n",
      "Enter a word: cat\n",
      "Enter a word: cat\n",
      "Enter a word: egg\n",
      "Enter a word: fan\n",
      "Enter a word: goat\n",
      "Enter a word: hen\n",
      "Enter a word: ink\n",
      "Enter a word: jug\n",
      "['apple', 'ball', 'cat', 'cat', 'egg', 'fan', 'goat', 'hen', 'ink', 'jug']\n"
     ]
    }
   ],
   "source": [
    "alist = []\n",
    "for i in range(10):\n",
    "    word = input(\"Enter a word: \")\n",
    "    alist.append(word)\n",
    "print(alist)"
   ]
  },
  {
   "cell_type": "markdown",
   "id": "eeabfb8a",
   "metadata": {},
   "source": [
    "# practice 4"
   ]
  },
  {
   "cell_type": "code",
   "execution_count": 50,
   "id": "f24378f9",
   "metadata": {},
   "outputs": [
    {
     "name": "stdout",
     "output_type": "stream",
     "text": [
      "['fan', 'cat', 'jug', 'hen', 'egg', 'goat', 'ball', 'apple', 'ink']\n"
     ]
    }
   ],
   "source": [
    "blist = list(set(alist))\n",
    "print(blist)"
   ]
  },
  {
   "cell_type": "markdown",
   "id": "261a2072",
   "metadata": {},
   "source": [
    "# practice 5"
   ]
  },
  {
   "cell_type": "code",
   "execution_count": 51,
   "id": "daed6630",
   "metadata": {},
   "outputs": [
    {
     "name": "stdout",
     "output_type": "stream",
     "text": [
      "['apple', 'ball', 'cat', 'egg', 'fan', 'goat', 'hen', 'ink', 'jug']\n"
     ]
    }
   ],
   "source": [
    "blist = ['fan', 'cat', 'jug', 'hen', 'egg', 'goat', 'ball', 'apple', 'ink']\n",
    "blist.sort()\n",
    "print(blist)"
   ]
  },
  {
   "cell_type": "markdown",
   "id": "b6703613",
   "metadata": {},
   "source": [
    "# practice 6"
   ]
  },
  {
   "cell_type": "code",
   "execution_count": 53,
   "id": "f90f1ec9",
   "metadata": {
    "scrolled": true
   },
   "outputs": [
    {
     "name": "stdout",
     "output_type": "stream",
     "text": [
      "['fan', 'cat', 'jug', 'hen', 'egg', 'goat', 'ball', 'apple']\n"
     ]
    }
   ],
   "source": [
    "blist = ['fan', 'cat', 'jug', 'hen', 'egg', 'goat', 'ball', 'apple', 'ink']\n",
    "blist.pop()\n",
    "print(blist)"
   ]
  },
  {
   "cell_type": "code",
   "execution_count": 24,
   "id": "a8c20811",
   "metadata": {},
   "outputs": [
    {
     "name": "stdout",
     "output_type": "stream",
     "text": [
      "['fan', 'cat', 'jug', 'hen', 'egg', 'goat', 'ball']\n"
     ]
    }
   ],
   "source": [
    "blist =['fan', 'cat', 'jug', 'hen', 'egg', 'goat', 'ball', 'apple']\n",
    "blist.pop()\n",
    "print(blist)\n"
   ]
  },
  {
   "cell_type": "code",
   "execution_count": 25,
   "id": "6599f30b",
   "metadata": {},
   "outputs": [
    {
     "name": "stdout",
     "output_type": "stream",
     "text": [
      "['fan', 'cat', 'jug', 'hen', 'egg', 'goat']\n"
     ]
    }
   ],
   "source": [
    "blist =['fan', 'cat', 'jug', 'hen', 'egg', 'goat', 'ball']\n",
    "blist.pop()\n",
    "print(blist)"
   ]
  },
  {
   "cell_type": "code",
   "execution_count": 26,
   "id": "0be962d3",
   "metadata": {},
   "outputs": [
    {
     "name": "stdout",
     "output_type": "stream",
     "text": [
      "['fan', 'cat', 'jug', 'hen', 'egg']\n"
     ]
    }
   ],
   "source": [
    "blist =['fan', 'cat', 'jug', 'hen', 'egg', 'goat']\n",
    "blist.pop()\n",
    "print(blist)"
   ]
  },
  {
   "cell_type": "code",
   "execution_count": 27,
   "id": "92a5f7b0",
   "metadata": {},
   "outputs": [
    {
     "name": "stdout",
     "output_type": "stream",
     "text": [
      "['fan', 'cat', 'jug', 'hen']\n"
     ]
    }
   ],
   "source": [
    "blist =['fan', 'cat', 'jug', 'hen', 'egg']\n",
    "blist.pop()\n",
    "print(blist)"
   ]
  },
  {
   "cell_type": "code",
   "execution_count": 28,
   "id": "95146864",
   "metadata": {},
   "outputs": [
    {
     "name": "stdout",
     "output_type": "stream",
     "text": [
      "['fan', 'cat', 'jug']\n"
     ]
    }
   ],
   "source": [
    "blist =['fan', 'cat', 'jug', 'hen']\n",
    "blist.pop()\n",
    "print(blist)"
   ]
  },
  {
   "cell_type": "code",
   "execution_count": 29,
   "id": "d1c0adb3",
   "metadata": {},
   "outputs": [
    {
     "name": "stdout",
     "output_type": "stream",
     "text": [
      "['fan', 'cat']\n"
     ]
    }
   ],
   "source": [
    "blist =['fan', 'cat', 'jug']\n",
    "blist.pop()\n",
    "print(blist)"
   ]
  },
  {
   "cell_type": "code",
   "execution_count": 30,
   "id": "0fa8f6f3",
   "metadata": {},
   "outputs": [
    {
     "name": "stdout",
     "output_type": "stream",
     "text": [
      "['fan']\n"
     ]
    }
   ],
   "source": [
    "blist =['fan', 'cat']\n",
    "blist.pop()\n",
    "print(blist)"
   ]
  },
  {
   "cell_type": "code",
   "execution_count": 31,
   "id": "8f1a5474",
   "metadata": {},
   "outputs": [
    {
     "name": "stdout",
     "output_type": "stream",
     "text": [
      "[]\n"
     ]
    }
   ],
   "source": [
    "blist =['fan']\n",
    "blist.pop()\n",
    "print(blist)"
   ]
  },
  {
   "cell_type": "markdown",
   "id": "4b5b70ad",
   "metadata": {},
   "source": [
    "# practice 7"
   ]
  },
  {
   "cell_type": "code",
   "execution_count": 54,
   "id": "a669ca64",
   "metadata": {},
   "outputs": [
    {
     "name": "stdout",
     "output_type": "stream",
     "text": [
      "[1505, 1540, 1575, 1610, 1645, 1680, 1715, 1750, 1785, 1820, 1855, 1890, 1925, 1960, 1995, 2030, 2065, 2100, 2135, 2170, 2205, 2240, 2275, 2310, 2345, 2380, 2415, 2450, 2485, 2520, 2555, 2590, 2625, 2660, 2695]\n"
     ]
    }
   ],
   "source": [
    "result = []\n",
    "for i in range(1500, 2701):\n",
    "    if i % 7 == 0 and i % 5 == 0:\n",
    "        result.append(i)\n",
    "print(result)"
   ]
  },
  {
   "cell_type": "markdown",
   "id": "38d3d166",
   "metadata": {},
   "source": [
    "# practice 8"
   ]
  },
  {
   "cell_type": "code",
   "execution_count": 10,
   "id": "b6cfaf73",
   "metadata": {},
   "outputs": [
    {
     "name": "stdout",
     "output_type": "stream",
     "text": [
      "Enter a value for n: 5\n",
      "1 2 3 4 6 7 8 9 11 12 13 14 16 17 18 19 21 22 23 24 26 27 28 29 "
     ]
    }
   ],
   "source": [
    "n = int(input(\"Enter a value for n: \"))\n",
    "\n",
    "for i in range(1,31):\n",
    "    if i % n == 0:\n",
    "        continue\n",
    "    print(i, end = ' ')"
   ]
  },
  {
   "cell_type": "markdown",
   "id": "cac1997d",
   "metadata": {},
   "source": [
    "# practice 9"
   ]
  },
  {
   "cell_type": "code",
   "execution_count": 23,
   "id": "9f16fdcd",
   "metadata": {},
   "outputs": [
    {
     "name": "stdout",
     "output_type": "stream",
     "text": [
      "[[20, 20, 20], [20, 20, 20], [20, 20, 20]]\n"
     ]
    }
   ],
   "source": [
    "firstlist=[[1,2,3], [4,5,6], [7,8,9]]\n",
    "secondlist=[[19,18,17], [16,15,14], [13,12,11]]\n",
    "thirdlist=[]\n",
    "for i in range(3):\n",
    "    thirdlist.append([])\n",
    "    for j in range(3):\n",
    "        thirdlist[i].append(firstlist[i][j]+secondlist[i][j])\n",
    "print(thirdlist)\n"
   ]
  },
  {
   "cell_type": "markdown",
   "id": "616e8032",
   "metadata": {},
   "source": [
    "# practice 10"
   ]
  },
  {
   "cell_type": "code",
   "execution_count": 3,
   "id": "402cd614",
   "metadata": {},
   "outputs": [
    {
     "name": "stdout",
     "output_type": "stream",
     "text": [
      "enter your number =1\n",
      "enter your number =2\n",
      "enter your number =3\n",
      "enter your number =4\n",
      "enter your number =5\n",
      "enter your number =6\n",
      "enter your number =7\n",
      "enter your number =8\n",
      "enter your number =9\n",
      "[[1, 2, 3], [4, 5, 6], [7, 8, 9]]\n",
      "enter your number =19\n",
      "enter your number =18\n",
      "enter your number =17\n",
      "enter your number =16\n",
      "enter your number =15\n",
      "enter your number =14\n",
      "enter your number =13\n",
      "enter your number =12\n",
      "enter your number =11\n",
      "[[19, 18, 17], [16, 15, 14], [13, 12, 11]]\n"
     ]
    }
   ],
   "source": [
    "firstlist=[]\n",
    "secondlist=[]\n",
    "for i in range(3):\n",
    "    firstlist.append([])\n",
    "    for j in range(3):\n",
    "        firstlist[i].append(int(input('enter your number =')))\n",
    "print(firstlist)\n",
    "\n",
    "for i in range(3):\n",
    "    secondlist.append([])\n",
    "    for j in range(3):\n",
    "        \n",
    "    \tsecondlist[i].append(int(input('enter your number =')))\n",
    "print(secondlist)\n",
    "\n"
   ]
  },
  {
   "cell_type": "markdown",
   "id": "c7090f69",
   "metadata": {},
   "source": [
    "# "
   ]
  }
 ],
 "metadata": {
  "kernelspec": {
   "display_name": "Python 3 (ipykernel)",
   "language": "python",
   "name": "python3"
  },
  "language_info": {
   "codemirror_mode": {
    "name": "ipython",
    "version": 3
   },
   "file_extension": ".py",
   "mimetype": "text/x-python",
   "name": "python",
   "nbconvert_exporter": "python",
   "pygments_lexer": "ipython3",
   "version": "3.9.13"
  }
 },
 "nbformat": 4,
 "nbformat_minor": 5
}
